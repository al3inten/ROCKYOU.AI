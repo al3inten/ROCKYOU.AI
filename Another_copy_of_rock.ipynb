{
  "nbformat": 4,
  "nbformat_minor": 0,
  "metadata": {
    "colab": {
      "provenance": [],
      "private_outputs": true,
      "cell_execution_strategy": "setup",
      "include_colab_link": true
    },
    "kernelspec": {
      "name": "python3",
      "display_name": "Python 3"
    },
    "language_info": {
      "name": "python"
    }
  },
  "cells": [
    {
      "cell_type": "markdown",
      "metadata": {
        "id": "view-in-github",
        "colab_type": "text"
      },
      "source": [
        "<a href=\"https://colab.research.google.com/github/al3inten/ROCKYOU.AI/blob/main/Another_copy_of_rock.ipynb\" target=\"_parent\"><img src=\"https://colab.research.google.com/assets/colab-badge.svg\" alt=\"Open In Colab\"/></a>"
      ]
    },
    {
      "cell_type": "code",
      "execution_count": null,
      "metadata": {
        "id": "xoC5QnQWWc1H"
      },
      "outputs": [],
      "source": [
        "!pip install transformers datasets accelerate -q\n"
      ]
    },
    {
      "cell_type": "markdown",
      "source": [],
      "metadata": {
        "id": "-d7ZGp-erDZi"
      }
    },
    {
      "cell_type": "code",
      "source": [
        "# ✅ STEP 1: Define the full path to the file in your Google Drive\n",
        "file_path = r\"C:\\Users\\USER\\Downloads\\leaked_passwords.txt\"\n",
        "\n",
        "\n",
        "# ✅ STEP 2: Read the file with encoding fallback (latin-1 → cp1252)\n",
        "try:\n",
        "    with open(file_path, 'r', encoding='latin-1') as f:\n",
        "        leaked_passwords = [line.strip() for line in f if line.strip()]\n",
        "except UnicodeDecodeError:\n",
        "    print(\"⚠️ latin-1 failed. Trying cp1252...\")\n",
        "    try:\n",
        "        with open(file_path, 'r', encoding='cp1252') as f:\n",
        "            leaked_passwords = [line.strip() for line in f if line.strip()]\n",
        "    except Exception as e:\n",
        "        print(f\"❌ Could not read file. Error: {e}\")\n",
        "        leaked_passwords = []\n",
        "\n",
        "print(f\"\\n✅ Loaded {len(leaked_passwords)} passwords from Drive\")\n",
        "print(\"📌 Sample passwords from file:\")\n",
        "print(leaked_passwords[:10])  # Show first 10\n"
      ],
      "metadata": {
        "id": "zNkeCuxbazOA"
      },
      "execution_count": null,
      "outputs": []
    },
    {
      "cell_type": "code",
      "source": [
        "# Ask the user to enter a password\n",
        "user_input = input(\"🔑 Enter the password you want to check: \")\n",
        "\n",
        "# Normalize the input (strip spaces, lowercase optional)\n",
        "user_input = user_input.strip()\n",
        "\n",
        "print(f\"✅ Your password: {user_input}\")\n"
      ],
      "metadata": {
        "id": "Yu7vMs9abi3A"
      },
      "execution_count": null,
      "outputs": []
    },
    {
      "cell_type": "code",
      "source": [
        "from sklearn.feature_extraction.text import TfidfVectorizer\n",
        "from sklearn.metrics.pairwise import cosine_similarity\n",
        "import numpy as np\n"
      ],
      "metadata": {
        "id": "I6mrFHcOmjxO"
      },
      "execution_count": null,
      "outputs": []
    },
    {
      "cell_type": "code",
      "source": [
        "# Use lowercase version of passwords to standardize\n",
        "password_corpus = [pwd.lower() for pwd in leaked_passwords]\n",
        "\n",
        "# Create the TF-IDF vectorizer\n",
        "vectorizer = TfidfVectorizer(analyzer='char', ngram_range=(2, 4))  # character-level TF-IDF\n",
        "tfidf_matrix = vectorizer.fit_transform(password_corpus)\n"
      ],
      "metadata": {
        "id": "Ov5Q_Ppum0e-"
      },
      "execution_count": null,
      "outputs": []
    },
    {
      "cell_type": "code",
      "source": [
        "user_input_cleaned = user_input.lower()\n",
        "user_vector = vectorizer.transform([user_input_cleaned])\n"
      ],
      "metadata": {
        "id": "iVrA66KXpXUy"
      },
      "execution_count": null,
      "outputs": []
    },
    {
      "cell_type": "code",
      "source": [
        "similarity_scores = cosine_similarity(user_vector, tfidf_matrix).flatten()\n"
      ],
      "metadata": {
        "id": "eJ82cILApdPq"
      },
      "execution_count": null,
      "outputs": []
    },
    {
      "cell_type": "code",
      "source": [
        "# Get top 10 most similar passwords\n",
        "top_indices = similarity_scores.argsort()[::-1][:10]\n",
        "top_matches = [(password_corpus[i], similarity_scores[i]) for i in top_indices]\n",
        "\n",
        "print(\"\\n🔍 Top similar passwords using AI (TF-IDF + Cosine):\")\n",
        "for pwd, score in top_matches:\n",
        "    print(f\"🔸 {pwd} (score: {score:.4f})\")\n"
      ],
      "metadata": {
        "id": "UNM6wRYA5Etp"
      },
      "execution_count": null,
      "outputs": []
    },
    {
      "cell_type": "code",
      "source": [
        "import string\n",
        "import random\n",
        "import os\n",
        "\n",
        "# ✅ Define password strength scoring logic\n",
        "def password_strength_score(pwd, similarity_score):\n",
        "    length_score = min(len(pwd) / 12, 1.0)  # 1.0 if length >= 12\n",
        "    variety_score = sum([\n",
        "        any(c.islower() for c in pwd),\n",
        "        any(c.isupper() for c in pwd),\n",
        "        any(c.isdigit() for c in pwd),\n",
        "        any(c in string.punctuation for c in pwd)\n",
        "    ]) / 4  # Max is 1.0\n",
        "\n",
        "    similarity_penalty = max(0, 1 - similarity_score)  # lower similarity = higher score\n",
        "\n",
        "    # Weighted final score\n",
        "    final_score = (0.4 * length_score) + (0.4 * variety_score) + (0.2 * similarity_penalty)\n",
        "    return round(final_score * 10, 2)  # Score out of 10\n",
        "\n",
        "# ✅ Generate a stronger, human-readable password\n",
        "def suggest_strong_password(base_pwd):\n",
        "    substitutions = {\n",
        "        'a': ['@', '4'], 'e': ['3'], 'i': ['1', '!'],\n",
        "        'o': ['0'], 's': ['$', '5'], 't': ['7'], 'l': ['1'],\n",
        "        'h': ['#']\n",
        "    }\n",
        "    strong_pwd = \"\"\n",
        "    for ch in base_pwd:\n",
        "        if ch.lower() in substitutions and random.random() < 0.7:\n",
        "            strong_pwd += random.choice(substitutions[ch.lower()])\n",
        "        else:\n",
        "            strong_pwd += ch\n",
        "    if not any(c.isdigit() for c in strong_pwd):\n",
        "        strong_pwd += str(random.randint(10, 99))\n",
        "    if not any(c in \"!@#$%&*?\" for c in strong_pwd):\n",
        "        strong_pwd += random.choice(\"!@#$%&*?\")\n",
        "    return strong_pwd\n",
        "\n",
        "# ✅ Scoring and reporting top matches\n",
        "print(\"\\n📋 Password Risk Log:\")\n",
        "log_lines = []\n",
        "for pwd, score in top_matches:\n",
        "    strength = password_strength_score(user_input, score)\n",
        "    line = f\"Input: {user_input} | Similar: {pwd} | Similarity: {score:.2f} | Score: {strength}/10\"\n",
        "    log_lines.append(line)\n",
        "    print(\"•\", line)\n",
        "\n",
        "# ✅ Suggest improved version\n",
        "suggested_password = suggest_strong_password(user_input)\n",
        "print(f\"\\n💡 Suggested stronger password: {suggested_password}\")\n",
        "# ✅ Define your local path (adjust \"USER\" to your system username)\n",
        "folder_path = r\"C:\\Users\\USER\\Downloads\\password-ai\"\n",
        "output_path = os.path.join(folder_path, \"password_risk_report.txt\")\n",
        "\n",
        "# ✅ Create the folder if it doesn't exist\n",
        "os.makedirs(folder_path, exist_ok=True)\n",
        "\n",
        "# ✅ Save the report locally\n",
        "with open(output_path, 'a') as f:\n",
        "    f.write(\"=== New Password Check ===\\n\")\n",
        "    for line in log_lines:\n",
        "        f.write(line + \"\\n\")\n",
        "    f.write(f\"Suggested Stronger Password: {suggested_password}\\n\\n\")\n",
        "\n",
        "print(f\"\\n📁 Report saved locally to: {output_path}\")\n",
        "\n"
      ],
      "metadata": {
        "id": "ZZA5mY6f768H"
      },
      "execution_count": null,
      "outputs": []
    },
    {
      "cell_type": "code",
      "source": [
        "import matplotlib.pyplot as plt\n",
        "\n",
        "# ✅ Get similarity + strength for all top matches\n",
        "passwords = []\n",
        "similarities = []\n",
        "strength_scores = []\n",
        "\n",
        "for pwd, sim in top_matches:\n",
        "    score = password_strength_score(user_input, sim)\n",
        "    passwords.append(pwd)\n",
        "    similarities.append(sim)\n",
        "    strength_scores.append(score)\n",
        "\n",
        "# ✅ Create the scatter plot\n",
        "plt.figure(figsize=(10, 6))\n",
        "plt.scatter(similarities, strength_scores, c='orange', s=100, alpha=0.7, edgecolors='black')\n",
        "\n",
        "for i, pwd in enumerate(passwords):\n",
        "    plt.annotate(pwd, (similarities[i]+0.005, strength_scores[i]+0.2), fontsize=9)\n",
        "\n",
        "plt.title(\"📊 Password Similarity vs Strength Score\", fontsize=14)\n",
        "plt.xlabel(\"Cosine Similarity with Leaked Passwords (0 = safe, 1 = dangerous)\")\n",
        "plt.ylabel(\"Strength Score (0–10)\")\n",
        "plt.grid(True)\n",
        "plt.axhline(y=5, color='red', linestyle='--', label='Minimum Safe Score')\n",
        "plt.axvline(x=0.5, color='blue', linestyle='--', label='High Similarity Threshold')\n",
        "plt.legend()\n",
        "plt.tight_layout()\n",
        "plt.show()\n"
      ],
      "metadata": {
        "id": "a1oprv6NYhNO"
      },
      "execution_count": null,
      "outputs": []
    },
    {
      "cell_type": "code",
      "source": [
        "def suggest_strong_password_v2(base_pwd, min_score=7.5, max_attempts=10):\n",
        "    import random\n",
        "    import re\n",
        "\n",
        "    substitutions = {\n",
        "        'a': '@', 'e': '3', 'i': '1',\n",
        "        'o': '0', 's': '$', 't': '7',\n",
        "        'l': '1', 'h': '#'\n",
        "    }\n",
        "\n",
        "    weak_patterns = ['123', 'password', 'qwerty', 'admin', 'letmein', 'login']\n",
        "\n",
        "    attempt = 0\n",
        "    while attempt < max_attempts:\n",
        "        # Step 1: Clean up weak patterns\n",
        "        pwd = base_pwd\n",
        "        for pattern in weak_patterns:\n",
        "            pwd = re.sub(pattern, '', pwd, flags=re.IGNORECASE)\n",
        "\n",
        "        # Step 2: Apply consistent substitutions (leet style)\n",
        "        strong_pwd = ''\n",
        "        for ch in pwd:\n",
        "            if ch.lower() in substitutions:\n",
        "                strong_pwd += substitutions[ch.lower()]\n",
        "            else:\n",
        "                strong_pwd += ch\n",
        "\n",
        "        # Step 3: Add a random number at the end if no digit\n",
        "        if not any(c.isdigit() for c in strong_pwd):\n",
        "            strong_pwd += str(random.randint(10, 99))\n",
        "\n",
        "        # Step 4: Add # at start and end if missing\n",
        "        if not strong_pwd.startswith(\"#\"):\n",
        "            strong_pwd = \"#\" + strong_pwd\n",
        "        if not strong_pwd.endswith(\"#\"):\n",
        "            strong_pwd += \"#\"\n",
        "\n",
        "        # Step 5: Evaluate strength\n",
        "        score = password_strength_score(strong_pwd, 0.0)\n",
        "        if score >= min_score:\n",
        "            return strong_pwd, score\n",
        "\n",
        "        attempt += 1\n",
        "\n",
        "    # Fallback return\n",
        "    return strong_pwd, score\n"
      ],
      "metadata": {
        "id": "vv0MSa1oZpUv"
      },
      "execution_count": null,
      "outputs": []
    },
    {
      "cell_type": "code",
      "source": [
        "strong_pwd, new_score = suggest_strong_password_v2(user_input)\n",
        "\n",
        "print(f\"\\n💡 AI-Enhanced Stronger Password: {strong_pwd} (Score: {new_score}/10)\")\n"
      ],
      "metadata": {
        "id": "bfaWM3sIZvmP"
      },
      "execution_count": null,
      "outputs": []
    }
  ]
}